{
 "cells": [
  {
   "cell_type": "code",
   "execution_count": 1,
   "metadata": {},
   "outputs": [],
   "source": [
    "import pandas as pd\n",
    "import numpy as np\n",
    "import matplotlib.pyplot as plt"
   ]
  },
  {
   "cell_type": "code",
   "execution_count": 2,
   "metadata": {},
   "outputs": [],
   "source": [
    "#for encoding\n",
    "from sklearn.preprocessing import LabelEncoder\n",
    "#for train test split\n",
    "from sklearn.model_selection import train_test_split\n"
   ]
  },
  {
   "cell_type": "code",
   "execution_count": 3,
   "metadata": {},
   "outputs": [
    {
     "data": {
      "text/html": [
       "<div>\n",
       "<style scoped>\n",
       "    .dataframe tbody tr th:only-of-type {\n",
       "        vertical-align: middle;\n",
       "    }\n",
       "\n",
       "    .dataframe tbody tr th {\n",
       "        vertical-align: top;\n",
       "    }\n",
       "\n",
       "    .dataframe thead th {\n",
       "        text-align: right;\n",
       "    }\n",
       "</style>\n",
       "<table border=\"1\" class=\"dataframe\">\n",
       "  <thead>\n",
       "    <tr style=\"text-align: right;\">\n",
       "      <th></th>\n",
       "      <th>age</th>\n",
       "      <th>education</th>\n",
       "      <th>novel</th>\n",
       "      <th>indoor game</th>\n",
       "      <th>outdoor game</th>\n",
       "      <th>use a mobile</th>\n",
       "      <th>movie type</th>\n",
       "      <th>movie genre</th>\n",
       "      <th>newspaper</th>\n",
       "      <th>ott</th>\n",
       "      <th>social media</th>\n",
       "      <th>job</th>\n",
       "    </tr>\n",
       "  </thead>\n",
       "  <tbody>\n",
       "    <tr>\n",
       "      <th>0</th>\n",
       "      <td>43</td>\n",
       "      <td>UG</td>\n",
       "      <td>Romance</td>\n",
       "      <td>Carrom Board</td>\n",
       "      <td>Cricket</td>\n",
       "      <td>Frequently</td>\n",
       "      <td>Hollywood</td>\n",
       "      <td>Science Fiction</td>\n",
       "      <td>No</td>\n",
       "      <td>Netflix</td>\n",
       "      <td>Instagram</td>\n",
       "      <td>IT</td>\n",
       "    </tr>\n",
       "    <tr>\n",
       "      <th>1</th>\n",
       "      <td>39</td>\n",
       "      <td>UG</td>\n",
       "      <td>Science Fiction</td>\n",
       "      <td>Shuttle</td>\n",
       "      <td>Cricket</td>\n",
       "      <td>Occasionally</td>\n",
       "      <td>Hollywood</td>\n",
       "      <td>Science Fiction</td>\n",
       "      <td>No</td>\n",
       "      <td>Disney + Hotstar</td>\n",
       "      <td>Instagram</td>\n",
       "      <td>Employee</td>\n",
       "    </tr>\n",
       "    <tr>\n",
       "      <th>2</th>\n",
       "      <td>39</td>\n",
       "      <td>PG</td>\n",
       "      <td>Science Fiction</td>\n",
       "      <td>Shuttle</td>\n",
       "      <td>Football</td>\n",
       "      <td>Frequently</td>\n",
       "      <td>Hollywood</td>\n",
       "      <td>Science Fiction</td>\n",
       "      <td>No</td>\n",
       "      <td>Disney + Hotstar</td>\n",
       "      <td>Whatsapp</td>\n",
       "      <td>Government job</td>\n",
       "    </tr>\n",
       "    <tr>\n",
       "      <th>3</th>\n",
       "      <td>23</td>\n",
       "      <td>UG</td>\n",
       "      <td>Science Fiction</td>\n",
       "      <td>Card Games</td>\n",
       "      <td>Kabaddi</td>\n",
       "      <td>Occasionally</td>\n",
       "      <td>Kollywood</td>\n",
       "      <td>Science Fiction</td>\n",
       "      <td>No</td>\n",
       "      <td>Disney + Hotstar</td>\n",
       "      <td>You Tube</td>\n",
       "      <td>Farmer</td>\n",
       "    </tr>\n",
       "    <tr>\n",
       "      <th>4</th>\n",
       "      <td>44</td>\n",
       "      <td>PG</td>\n",
       "      <td>Mysteries</td>\n",
       "      <td>Carrom Board</td>\n",
       "      <td>Cricket</td>\n",
       "      <td>Frequently</td>\n",
       "      <td>Kollywood</td>\n",
       "      <td>Action</td>\n",
       "      <td>No</td>\n",
       "      <td>Disney + Hotstar</td>\n",
       "      <td>Instagram</td>\n",
       "      <td>Employee</td>\n",
       "    </tr>\n",
       "  </tbody>\n",
       "</table>\n",
       "</div>"
      ],
      "text/plain": [
       "   age education            novel   indoor game outdoor game  use a mobile  \\\n",
       "0   43        UG          Romance  Carrom Board      Cricket    Frequently   \n",
       "1   39        UG  Science Fiction       Shuttle      Cricket  Occasionally   \n",
       "2   39        PG  Science Fiction       Shuttle     Football    Frequently   \n",
       "3   23        UG  Science Fiction    Card Games      Kabaddi  Occasionally   \n",
       "4   44        PG        Mysteries  Carrom Board      Cricket    Frequently   \n",
       "\n",
       "  movie type      movie genre newspaper               ott social media  \\\n",
       "0  Hollywood  Science Fiction        No           Netflix    Instagram   \n",
       "1  Hollywood  Science Fiction        No  Disney + Hotstar    Instagram   \n",
       "2  Hollywood  Science Fiction        No  Disney + Hotstar     Whatsapp   \n",
       "3  Kollywood  Science Fiction        No  Disney + Hotstar     You Tube   \n",
       "4  Kollywood           Action        No  Disney + Hotstar    Instagram   \n",
       "\n",
       "              job  \n",
       "0              IT  \n",
       "1        Employee  \n",
       "2  Government job  \n",
       "3          Farmer  \n",
       "4        Employee  "
      ]
     },
     "execution_count": 3,
     "metadata": {},
     "output_type": "execute_result"
    }
   ],
   "source": [
    "data = pd.read_csv(\"Final_dataset_1.csv\")\n",
    "data.head()"
   ]
  },
  {
   "cell_type": "code",
   "execution_count": 4,
   "metadata": {},
   "outputs": [
    {
     "data": {
      "text/plain": [
       "(362, 12)"
      ]
     },
     "execution_count": 4,
     "metadata": {},
     "output_type": "execute_result"
    }
   ],
   "source": [
    "data.shape"
   ]
  },
  {
   "cell_type": "code",
   "execution_count": 5,
   "metadata": {},
   "outputs": [
    {
     "data": {
      "text/plain": [
       "age             0\n",
       "education       0\n",
       "novel           0\n",
       "indoor game     0\n",
       "outdoor game    0\n",
       "use a mobile    0\n",
       "movie type      0\n",
       "movie genre     0\n",
       "newspaper       0\n",
       "ott             0\n",
       "social media    0\n",
       "job             0\n",
       "dtype: int64"
      ]
     },
     "execution_count": 5,
     "metadata": {},
     "output_type": "execute_result"
    }
   ],
   "source": [
    "data.isnull().sum()"
   ]
  },
  {
   "cell_type": "code",
   "execution_count": 6,
   "metadata": {},
   "outputs": [
    {
     "data": {
      "text/plain": [
       "Index(['age', 'education', 'novel', 'indoor game', 'outdoor game',\n",
       "       'use a mobile', 'movie type', 'movie genre', 'newspaper', 'ott',\n",
       "       'social media', 'job'],\n",
       "      dtype='object')"
      ]
     },
     "execution_count": 6,
     "metadata": {},
     "output_type": "execute_result"
    }
   ],
   "source": [
    "data.columns"
   ]
  },
  {
   "cell_type": "code",
   "execution_count": 7,
   "metadata": {},
   "outputs": [],
   "source": [
    "data['education']= data['education'].map({'10th':0, '12th':1, 'UG':2, 'PG':3})\n",
    "data['novel']= data['novel'].map({'Mysteries':0, 'Fantasy':1, 'Romance':2, 'Science Fiction':3})\n",
    "data['indoor game']= data['indoor game'].map({'Chess':0, 'Carrom Board':1, 'Shuttle':2, 'Card Games':3})\n",
    "data['outdoor game']= data['outdoor game'].map({'Cricket':0, 'Football':1, 'Kabaddi':2, 'Hockey':3})\n",
    "data['use a mobile']= data['use a mobile'].map({'Rarely':0, 'Occasionally':1, 'Frequently':2})\n",
    "data['movie type']= data['movie type'].map({'Hollywood':0, 'Bollywood':1, 'Kollywood':2, 'Tollywood':3, 'Sandalwood':4})\n",
    "data['movie genre']= data['movie genre'].map({'Drama':0, 'Action':1, 'Comedy':2, 'Science Fiction':3})\n",
    "data['newspaper']= data['newspaper'].map({'Yes':0, 'No':1})\n",
    "data['ott']= data['ott'].map({'Netflix':0, 'Disney + Hotstar':1, 'Amazon Prime':2, 'Sony LIV':3})\n",
    "data['social media']= data['social media'].map({'Instagram':0, 'Facebook':1, 'Twitter':2, 'You Tube':3, 'Whatsapp':4})"
   ]
  },
  {
   "cell_type": "code",
   "execution_count": 8,
   "metadata": {},
   "outputs": [
    {
     "data": {
      "text/html": [
       "<div>\n",
       "<style scoped>\n",
       "    .dataframe tbody tr th:only-of-type {\n",
       "        vertical-align: middle;\n",
       "    }\n",
       "\n",
       "    .dataframe tbody tr th {\n",
       "        vertical-align: top;\n",
       "    }\n",
       "\n",
       "    .dataframe thead th {\n",
       "        text-align: right;\n",
       "    }\n",
       "</style>\n",
       "<table border=\"1\" class=\"dataframe\">\n",
       "  <thead>\n",
       "    <tr style=\"text-align: right;\">\n",
       "      <th></th>\n",
       "      <th>age</th>\n",
       "      <th>education</th>\n",
       "      <th>novel</th>\n",
       "      <th>indoor game</th>\n",
       "      <th>outdoor game</th>\n",
       "      <th>use a mobile</th>\n",
       "      <th>movie type</th>\n",
       "      <th>movie genre</th>\n",
       "      <th>newspaper</th>\n",
       "      <th>ott</th>\n",
       "      <th>social media</th>\n",
       "      <th>job</th>\n",
       "    </tr>\n",
       "  </thead>\n",
       "  <tbody>\n",
       "    <tr>\n",
       "      <th>0</th>\n",
       "      <td>43</td>\n",
       "      <td>2</td>\n",
       "      <td>2</td>\n",
       "      <td>1</td>\n",
       "      <td>0</td>\n",
       "      <td>2</td>\n",
       "      <td>0</td>\n",
       "      <td>3</td>\n",
       "      <td>1</td>\n",
       "      <td>0</td>\n",
       "      <td>0</td>\n",
       "      <td>IT</td>\n",
       "    </tr>\n",
       "    <tr>\n",
       "      <th>1</th>\n",
       "      <td>39</td>\n",
       "      <td>2</td>\n",
       "      <td>3</td>\n",
       "      <td>2</td>\n",
       "      <td>0</td>\n",
       "      <td>1</td>\n",
       "      <td>0</td>\n",
       "      <td>3</td>\n",
       "      <td>1</td>\n",
       "      <td>1</td>\n",
       "      <td>0</td>\n",
       "      <td>Employee</td>\n",
       "    </tr>\n",
       "    <tr>\n",
       "      <th>2</th>\n",
       "      <td>39</td>\n",
       "      <td>3</td>\n",
       "      <td>3</td>\n",
       "      <td>2</td>\n",
       "      <td>1</td>\n",
       "      <td>2</td>\n",
       "      <td>0</td>\n",
       "      <td>3</td>\n",
       "      <td>1</td>\n",
       "      <td>1</td>\n",
       "      <td>4</td>\n",
       "      <td>Government job</td>\n",
       "    </tr>\n",
       "    <tr>\n",
       "      <th>3</th>\n",
       "      <td>23</td>\n",
       "      <td>2</td>\n",
       "      <td>3</td>\n",
       "      <td>3</td>\n",
       "      <td>2</td>\n",
       "      <td>1</td>\n",
       "      <td>2</td>\n",
       "      <td>3</td>\n",
       "      <td>1</td>\n",
       "      <td>1</td>\n",
       "      <td>3</td>\n",
       "      <td>Farmer</td>\n",
       "    </tr>\n",
       "    <tr>\n",
       "      <th>4</th>\n",
       "      <td>44</td>\n",
       "      <td>3</td>\n",
       "      <td>0</td>\n",
       "      <td>1</td>\n",
       "      <td>0</td>\n",
       "      <td>2</td>\n",
       "      <td>2</td>\n",
       "      <td>1</td>\n",
       "      <td>1</td>\n",
       "      <td>1</td>\n",
       "      <td>0</td>\n",
       "      <td>Employee</td>\n",
       "    </tr>\n",
       "  </tbody>\n",
       "</table>\n",
       "</div>"
      ],
      "text/plain": [
       "   age  education  novel  indoor game  outdoor game  use a mobile  movie type  \\\n",
       "0   43          2      2            1             0             2           0   \n",
       "1   39          2      3            2             0             1           0   \n",
       "2   39          3      3            2             1             2           0   \n",
       "3   23          2      3            3             2             1           2   \n",
       "4   44          3      0            1             0             2           2   \n",
       "\n",
       "   movie genre  newspaper  ott  social media             job  \n",
       "0            3          1    0             0              IT  \n",
       "1            3          1    1             0        Employee  \n",
       "2            3          1    1             4  Government job  \n",
       "3            3          1    1             3          Farmer  \n",
       "4            1          1    1             0        Employee  "
      ]
     },
     "execution_count": 8,
     "metadata": {},
     "output_type": "execute_result"
    }
   ],
   "source": [
    "data.head()"
   ]
  },
  {
   "cell_type": "code",
   "execution_count": 9,
   "metadata": {},
   "outputs": [],
   "source": [
    "target = data['job']"
   ]
  },
  {
   "cell_type": "code",
   "execution_count": 10,
   "metadata": {},
   "outputs": [
    {
     "data": {
      "text/plain": [
       "array([ 7,  4,  6,  5,  4,  4,  6,  5,  6,  2,  6,  1,  9,  5,  1,  3,  0,\n",
       "        1,  6,  6,  4,  2,  5,  1,  4,  9,  6,  4,  7,  4,  6,  7,  7,  5,\n",
       "        5,  6,  6,  9,  0,  3,  4,  6,  7,  3,  7,  6, 10,  8,  6, 10,  7,\n",
       "        4,  1,  5,  4,  8,  5,  1,  9,  2,  0,  1,  0,  4,  9,  4,  7,  2,\n",
       "        3,  7,  4,  2,  0,  8,  8,  2,  8,  9,  0,  4, 10,  8,  5,  4,  6,\n",
       "        3,  4,  5,  1,  5,  4,  6,  4,  4, 10,  1,  0,  0,  0,  1,  5,  7,\n",
       "        4,  5,  4,  4,  5,  2,  1,  9,  5,  1,  3,  0,  1,  4,  2,  5,  4,\n",
       "        9,  4,  7,  4,  3,  7,  7,  5,  5,  9,  9,  0,  4,  3,  7,  1,  3,\n",
       "        1,  7,  3,  4,  6,  5,  4,  8,  5,  1,  2,  0,  4,  0,  4,  4,  7,\n",
       "        2,  1,  7,  4,  2,  0,  8,  8,  2,  8,  9,  0,  4, 10,  8,  5,  4,\n",
       "        4,  5,  5,  4,  4,  4,  4,  0,  0,  0,  2,  5,  7,  4,  5,  4,  4,\n",
       "        5,  2,  1,  5,  1,  0, 10,  4,  2,  5,  4,  9,  4,  7,  4,  3,  7,\n",
       "        7,  5,  5,  9,  9,  0,  4,  3,  7,  1,  3,  1,  7,  4,  3,  9,  9,\n",
       "        1,  5,  4,  8,  5,  1,  9,  2,  0,  4,  0,  4,  9,  3,  4,  7,  2,\n",
       "        1,  7,  4,  2,  0,  8,  8,  2,  8,  9,  0,  4, 10,  8,  5,  4,  4,\n",
       "        5,  5,  4,  4,  4,  4,  0,  0,  9,  9,  0,  2,  5,  7,  4,  5,  4,\n",
       "        1,  5,  2,  4,  5, 10,  0,  1,  4,  2,  5,  4,  4,  7,  4,  7,  7,\n",
       "        5,  5,  9,  0,  4,  7,  6,  3, 10,  7,  4,  3,  9,  9,  1,  5,  4,\n",
       "        8,  5,  1,  9,  2,  0,  4,  0,  4,  9,  4,  7,  2,  1,  7,  1,  1,\n",
       "        0,  8,  8,  2,  8,  3,  0,  4, 10,  8,  5,  1,  3,  4,  5,  5,  4,\n",
       "        4,  4,  1,  0,  3,  0,  9,  9,  0,  2,  5,  7,  4,  7,  4,  5,  4,\n",
       "        4,  5,  2,  1,  9])"
      ]
     },
     "execution_count": 10,
     "metadata": {},
     "output_type": "execute_result"
    }
   ],
   "source": [
    "le = LabelEncoder()\n",
    "target = le.fit_transform(target)\n",
    "target"
   ]
  },
  {
   "cell_type": "code",
   "execution_count": 11,
   "metadata": {},
   "outputs": [],
   "source": [
    "df1 = data.copy()"
   ]
  },
  {
   "cell_type": "code",
   "execution_count": 12,
   "metadata": {},
   "outputs": [
    {
     "data": {
      "text/html": [
       "<div>\n",
       "<style scoped>\n",
       "    .dataframe tbody tr th:only-of-type {\n",
       "        vertical-align: middle;\n",
       "    }\n",
       "\n",
       "    .dataframe tbody tr th {\n",
       "        vertical-align: top;\n",
       "    }\n",
       "\n",
       "    .dataframe thead th {\n",
       "        text-align: right;\n",
       "    }\n",
       "</style>\n",
       "<table border=\"1\" class=\"dataframe\">\n",
       "  <thead>\n",
       "    <tr style=\"text-align: right;\">\n",
       "      <th></th>\n",
       "      <th>education</th>\n",
       "      <th>novel</th>\n",
       "      <th>indoor game</th>\n",
       "      <th>outdoor game</th>\n",
       "      <th>use a mobile</th>\n",
       "      <th>movie type</th>\n",
       "      <th>movie genre</th>\n",
       "      <th>newspaper</th>\n",
       "      <th>ott</th>\n",
       "      <th>social media</th>\n",
       "    </tr>\n",
       "  </thead>\n",
       "  <tbody>\n",
       "    <tr>\n",
       "      <th>0</th>\n",
       "      <td>2</td>\n",
       "      <td>2</td>\n",
       "      <td>1</td>\n",
       "      <td>0</td>\n",
       "      <td>2</td>\n",
       "      <td>0</td>\n",
       "      <td>3</td>\n",
       "      <td>1</td>\n",
       "      <td>0</td>\n",
       "      <td>0</td>\n",
       "    </tr>\n",
       "    <tr>\n",
       "      <th>1</th>\n",
       "      <td>2</td>\n",
       "      <td>3</td>\n",
       "      <td>2</td>\n",
       "      <td>0</td>\n",
       "      <td>1</td>\n",
       "      <td>0</td>\n",
       "      <td>3</td>\n",
       "      <td>1</td>\n",
       "      <td>1</td>\n",
       "      <td>0</td>\n",
       "    </tr>\n",
       "    <tr>\n",
       "      <th>2</th>\n",
       "      <td>3</td>\n",
       "      <td>3</td>\n",
       "      <td>2</td>\n",
       "      <td>1</td>\n",
       "      <td>2</td>\n",
       "      <td>0</td>\n",
       "      <td>3</td>\n",
       "      <td>1</td>\n",
       "      <td>1</td>\n",
       "      <td>4</td>\n",
       "    </tr>\n",
       "    <tr>\n",
       "      <th>3</th>\n",
       "      <td>2</td>\n",
       "      <td>3</td>\n",
       "      <td>3</td>\n",
       "      <td>2</td>\n",
       "      <td>1</td>\n",
       "      <td>2</td>\n",
       "      <td>3</td>\n",
       "      <td>1</td>\n",
       "      <td>1</td>\n",
       "      <td>3</td>\n",
       "    </tr>\n",
       "    <tr>\n",
       "      <th>4</th>\n",
       "      <td>3</td>\n",
       "      <td>0</td>\n",
       "      <td>1</td>\n",
       "      <td>0</td>\n",
       "      <td>2</td>\n",
       "      <td>2</td>\n",
       "      <td>1</td>\n",
       "      <td>1</td>\n",
       "      <td>1</td>\n",
       "      <td>0</td>\n",
       "    </tr>\n",
       "  </tbody>\n",
       "</table>\n",
       "</div>"
      ],
      "text/plain": [
       "   education  novel  indoor game  outdoor game  use a mobile  movie type  \\\n",
       "0          2      2            1             0             2           0   \n",
       "1          2      3            2             0             1           0   \n",
       "2          3      3            2             1             2           0   \n",
       "3          2      3            3             2             1           2   \n",
       "4          3      0            1             0             2           2   \n",
       "\n",
       "   movie genre  newspaper  ott  social media  \n",
       "0            3          1    0             0  \n",
       "1            3          1    1             0  \n",
       "2            3          1    1             4  \n",
       "3            3          1    1             3  \n",
       "4            1          1    1             0  "
      ]
     },
     "execution_count": 12,
     "metadata": {},
     "output_type": "execute_result"
    }
   ],
   "source": [
    "df1 = data.drop(['age','job'],axis=1)\n",
    "df1.head()"
   ]
  },
  {
   "cell_type": "code",
   "execution_count": 13,
   "metadata": {},
   "outputs": [],
   "source": [
    "x = df1\n"
   ]
  },
  {
   "cell_type": "code",
   "execution_count": 14,
   "metadata": {},
   "outputs": [],
   "source": [
    "y = target"
   ]
  },
  {
   "cell_type": "code",
   "execution_count": 15,
   "metadata": {},
   "outputs": [],
   "source": [
    "# data split\n",
    "x_train,x_test,y_train,y_test = train_test_split(x, y, test_size = 0.3, random_state = 21)"
   ]
  },
  {
   "cell_type": "code",
   "execution_count": 16,
   "metadata": {},
   "outputs": [
    {
     "data": {
      "text/plain": [
       "((253, 10), (109, 10), (253,), (109,))"
      ]
     },
     "execution_count": 16,
     "metadata": {},
     "output_type": "execute_result"
    }
   ],
   "source": [
    "x_train.shape,x_test.shape,y_train.shape,y_test.shape"
   ]
  },
  {
   "cell_type": "code",
   "execution_count": 17,
   "metadata": {},
   "outputs": [],
   "source": [
    "from sklearn.ensemble import RandomForestClassifier\n",
    "from sklearn.metrics import  classification_report, confusion_matrix,accuracy_score"
   ]
  },
  {
   "cell_type": "code",
   "execution_count": 18,
   "metadata": {},
   "outputs": [],
   "source": [
    "classifier = RandomForestClassifier(n_estimators=100,criterion='gini', random_state=100)\n",
    "hist = classifier.fit(x_train,y_train)\n",
    "y_pred = classifier.predict(x_test)"
   ]
  },
  {
   "cell_type": "code",
   "execution_count": 19,
   "metadata": {},
   "outputs": [
    {
     "name": "stdout",
     "output_type": "stream",
     "text": [
      "Classifcation report:\n",
      "               precision    recall  f1-score   support\n",
      "\n",
      "           0       1.00      1.00      1.00        17\n",
      "           1       1.00      0.67      0.80        15\n",
      "           2       0.89      1.00      0.94         8\n",
      "           3       0.33      1.00      0.50         3\n",
      "           4       0.77      1.00      0.87        20\n",
      "           5       1.00      1.00      1.00        16\n",
      "           6       1.00      0.17      0.29         6\n",
      "           7       1.00      0.92      0.96        12\n",
      "           8       1.00      0.80      0.89         5\n",
      "           9       1.00      1.00      1.00         5\n",
      "          10       1.00      0.50      0.67         2\n",
      "\n",
      "    accuracy                           0.88       109\n",
      "   macro avg       0.91      0.82      0.81       109\n",
      "weighted avg       0.93      0.88      0.88       109\n",
      "\n"
     ]
    }
   ],
   "source": [
    "##Classifcation report\n",
    "print('Classifcation report:\\n', classification_report(y_test, y_pred,zero_division=0))"
   ]
  },
  {
   "cell_type": "code",
   "execution_count": 20,
   "metadata": {},
   "outputs": [],
   "source": [
    "import pickle \n"
   ]
  },
  {
   "cell_type": "code",
   "execution_count": 21,
   "metadata": {},
   "outputs": [],
   "source": [
    "pickle.dump(classifier, open('RF_Career.pkl','wb'))"
   ]
  },
  {
   "cell_type": "code",
   "execution_count": null,
   "metadata": {},
   "outputs": [],
   "source": []
  }
 ],
 "metadata": {
  "kernelspec": {
   "display_name": "Python 3",
   "language": "python",
   "name": "python3"
  },
  "language_info": {
   "codemirror_mode": {
    "name": "ipython",
    "version": 3
   },
   "file_extension": ".py",
   "mimetype": "text/x-python",
   "name": "python",
   "nbconvert_exporter": "python",
   "pygments_lexer": "ipython3",
   "version": "3.8.5"
  }
 },
 "nbformat": 4,
 "nbformat_minor": 4
}
